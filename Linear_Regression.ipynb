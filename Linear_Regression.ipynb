{
 "cells": [
  {
   "cell_type": "markdown",
   "metadata": {},
   "source": [
    "# Linear Regression"
   ]
  },
  {
   "cell_type": "markdown",
   "metadata": {},
   "source": [
    "##### A linear model makes a prediction by simply computing the weighted sum of the input features, plus a constant called the *bias term*(also called the *intercept term*) \n",
    "##### $ y = \\theta_0\\ + \\theta_1x_1 + \\theta_2x_2...+\\theta_nx_n$\n",
    "#####  -  $\\hat y$ is the predicted value\n",
    "#####  -  $n$ is the number of features\n",
    "#####  -  $x_i$ is the  $i^{th}$ feature\n",
    "#####  - $\\theta_j$  is the $j^{th}$ model parameter(including the bias term $\\theta_0$ and the feature weights $\\theta_1 , \\theta_2 ,..... \\theta_n$)"
   ]
  },
  {
   "cell_type": "markdown",
   "metadata": {},
   "source": [
    "#####  In vectorised form\n",
    "##### $y = h_\\theta (X) = \\theta.X$\n",
    "\n",
    "#####  -  $\\theta$ is the model's parameter vector, containing the bias term $\\theta_0$ and the feature weights $\\theta_1$ to $\\theta_n$\n",
    "#####  -  X is the instance's feature vector , containing the bias term $x_0$ to $x_n$ , with $x_0$ always equal to 1.\n",
    "#####  -  $\\theta . X$ is the dot product of the vectors $\\theta$ and X, which is equal to $\\theta_0x_0 + \\theta_1x_1 + .... + \\theta_nx_n$\n",
    "##### - $h_\\theta$ is the hypothesis function, using the model  parametrs $\\theta$\n"
   ]
  },
  {
   "cell_type": "markdown",
   "metadata": {},
   "source": [
    "#### Note:\n",
    "   #####      In Machine Learning , vectors are often represented as *column vector* , which are 2D arrays with a single column. If  **$\\theta$** and **x** are column vectors, then the prediction is: **$y = \\theta^TX$**  .  It is the same prediction , except it is now represented as a single cell matrix rather than a scalar value.  "
   ]
  },
  {
   "cell_type": "markdown",
   "metadata": {},
   "source": [
    "##### Training a model means setting its parameters so that the model fits the training set. For this purpose , we first need a measure of how well (or poorly) the model fits the training data. The most common performance measure of a regression model iis the Root Mean Squared Error(rmse). Therefore , to train a Linear Regression model, need to find the value of  $\\theta$ that minimizes the RMSE. In practice , it is simpler to minimize the Mean Square Error(MSE) than the RMSE, and it leads to the same result ( because a value that minimizes a function also minimizes its square root) "
   ]
  },
  {
   "cell_type": "markdown",
   "metadata": {},
   "source": [
    "####  MSE cost fuction for a Linear Regression model\n",
    " \n",
    " ####             $MSE(X,h_\\theta) = \\frac{1}{m}\\sum_{i=1}^m(\\theta^TX^{(i)} - y^{(i)})$   "
   ]
  },
  {
   "cell_type": "markdown",
   "metadata": {},
   "source": [
    "### Normal Equation\n",
    "\n",
    "#####        To find value of **$\\theta$** that minimizes the cost function, there is a *closed-form solution* , a mathematical equation that gives the result directly. This is the *Normal Equation*\n",
    "#####                          $\\hat \\theta = (X^TX)^{-1} X^T y$\n",
    "#####   - $\\hat \\theta$ is the value of $\\theta$ that minimizes the cost function\n",
    "#####   - $y$ is the vector or target values conataining $y^{(1)}$ to  $y^{(m)}$"
   ]
  },
  {
   "cell_type": "code",
   "execution_count": 1,
   "metadata": {},
   "outputs": [
    {
     "data": {
      "text/plain": [
       "<matplotlib.collections.PathCollection at 0x7f93808e7580>"
      ]
     },
     "execution_count": 1,
     "metadata": {},
     "output_type": "execute_result"
    },
    {
     "data": {
      "image/png": "[encoded data removed]",
      "text/plain": [
       "<Figure size 432x288 with 1 Axes>"
      ]
     },
     "metadata": {
      "needs_background": "light"
     },
     "output_type": "display_data"
    }
   ],
   "source": [
    "#generating some linear-looking data to test this equation\n",
    "import numpy as np\n",
    "import matplotlib.pyplot as plt\n",
    "x = 2 * np.random.randn(100, 1)\n",
    "y = 4 + 3 * x + np.random.randn(100,1) # randomly adding noise to 4+3x\n",
    "plt.scatter(x, y, c='k')\n"
   ]
  },
  {
   "cell_type": "code",
   "execution_count": 4,
   "metadata": {},
   "outputs": [
    {
     "data": {
      "text/plain": [
       "array([[3.88491554],\n",
       "       [3.02042221]])"
      ]
     },
     "execution_count": 4,
     "metadata": {},
     "output_type": "execute_result"
    }
   ],
   "source": [
    "\"\"\"let's compute theta using the normal equation . We will\n",
    "use the inv() function from NumPy's linalg module to compute\n",
    "inverse of a matrix and dot()\n",
    "\"\"\"\n",
    "x_b = np.c_[np.ones((100,1)), x] #add x0=1 to each instance\n",
    "theta_best = np.linalg.inv(x_b.T.dot(x_b)).dot(x_b.T).dot(y)\n",
    "\"\"\"The actual function that we used to generate the data\n",
    "is y = 4+3x1+Gaussian noise\n",
    "\"\"\"\n",
    "theta_best"
   ]
  },
  {
   "cell_type": "code",
   "execution_count": 5,
   "metadata": {},
   "outputs": [
    {
     "data": {
      "text/plain": [
       "array([[3.88491554],\n",
       "       [3.02042221]])"
      ]
     },
     "execution_count": 5,
     "metadata": {},
     "output_type": "execute_result"
    }
   ],
   "source": [
    "theta_best"
   ]
  },
  {
   "cell_type": "markdown",
   "metadata": {},
   "source": [
    "#####  we hoped for  $\\theta_0 = 4$  and  $\\theta_1 = 3$ instead we got $ \\theta_0 = 4.06$  and  $\\theta_1 = 2.93 $"
   ]
  },
  {
   "cell_type": "code",
   "execution_count": 6,
   "metadata": {},
   "outputs": [
    {
     "data": {
      "text/plain": [
       "array([[3.88491554],\n",
       "       [9.92575997]])"
      ]
     },
     "execution_count": 6,
     "metadata": {},
     "output_type": "execute_result"
    }
   ],
   "source": [
    "#making predictions using theta\n",
    "x_new = np.array([[0], [2]])\n",
    "x_new_b = np.c_[np.ones((2,1)), x_new] #add x0 = 1 to each instance\n",
    "y_predict = x_new_b.dot(theta_best)\n",
    "y_predict\n"
   ]
  },
  {
   "cell_type": "code",
   "execution_count": 7,
   "metadata": {
    "scrolled": true
   },
   "outputs": [
    {
     "data": {
      "text/plain": [
       "[0, 2, 0, 16]"
      ]
     },
     "execution_count": 7,
     "metadata": {},
     "output_type": "execute_result"
    },
    {
     "data": {
      "image/png": "[encoded data removed]",
      "text/plain": [
       "<Figure size 432x288 with 1 Axes>"
      ]
     },
     "metadata": {
      "needs_background": "light"
     },
     "output_type": "display_data"
    }
   ],
   "source": [
    "# plotting models predictions\n",
    "plt.plot(x_new, y_predict, \"r-\")\n",
    "plt.plot(x, y, \"b.\")\n",
    "plt.axis([0,2,0,16])\n"
   ]
  },
  {
   "cell_type": "code",
   "execution_count": 8,
   "metadata": {},
   "outputs": [
    {
     "data": {
      "text/plain": [
       "(array([3.88491554]), array([[3.02042221]]))"
      ]
     },
     "execution_count": 8,
     "metadata": {},
     "output_type": "execute_result"
    }
   ],
   "source": [
    "# performing Linear Regression using sklearn\n",
    "from sklearn.linear_model import LinearRegression\n",
    "lin_reg = LinearRegression()\n",
    "lin_reg.fit(x, y)\n",
    "lin_reg.intercept_ , lin_reg.coef_"
   ]
  },
  {
   "cell_type": "code",
   "execution_count": 9,
   "metadata": {},
   "outputs": [
    {
     "data": {
      "text/plain": [
       "array([[3.88491554],\n",
       "       [9.92575997]])"
      ]
     },
     "execution_count": 9,
     "metadata": {},
     "output_type": "execute_result"
    }
   ],
   "source": [
    "lin_reg.predict(x_new)"
   ]
  },
  {
   "cell_type": "code",
   "execution_count": 10,
   "metadata": {},
   "outputs": [
    {
     "data": {
      "text/plain": [
       "array([[3.88491554],\n",
       "       [3.02042221]])"
      ]
     },
     "execution_count": 10,
     "metadata": {},
     "output_type": "execute_result"
    }
   ],
   "source": [
    "\"\"\"The LinearRegression class is based on the \n",
    "scipy.linalg.lstsq() function which can be applied\n",
    "directly\n",
    "\"\"\"\n",
    "theta_best_svd, residuals, rank, s = np.linalg.lstsq(x_b, y, rcond=1e-6)\n",
    "theta_best_svd\n"
   ]
  },
  {
   "cell_type": "markdown",
   "metadata": {},
   "source": [
    "#####  This function computes $\\hat\\theta = X^{+}y$ where $X^{+}$ is the *pseudoinverse* of X(specifically the Moore-Penrose inverse). You can use np.linalg.pinv() to compute the pseudoinverse directly"
   ]
  },
  {
   "cell_type": "code",
   "execution_count": 11,
   "metadata": {},
   "outputs": [
    {
     "data": {
      "text/plain": [
       "array([[3.88491554],\n",
       "       [3.02042221]])"
      ]
     },
     "execution_count": 11,
     "metadata": {},
     "output_type": "execute_result"
    }
   ],
   "source": [
    "np.linalg.pinv(x_b).dot(y)"
   ]
  },
  {
   "cell_type": "markdown",
   "metadata": {},
   "source": [
    "#####  The pseudoinverse itself is computed using standard matrix factorization technique called *Singular Value Decomposition(SVD)* that can decompose the training set matrix $X$ into the matrix multiplication of three matrices $U\\Sigma V^T$ . The pseudoinverse is computed as $X^{+} = V\\Sigma^{+}U^T$. To compute the matrix $\\Sigma^{+}$, the algorithm takes $\\Sigma$ and sets to zero all values smaller than a thhreshold value, then it replaces all the non-zero values with their inverse, and finally it transposes the resulting matrix. This approach is more efficient than computing the Normal Equation, plus it handles edge cases nicely:indeed, the Normal Equation may not work if the matrix $X^TX$ is not invertible, such as if m < n or if some features are redundant , but the pseudoinverse is always defined"
   ]
  },
  {
   "cell_type": "markdown",
   "metadata": {},
   "source": [
    "### Computational Complexity"
   ]
  },
  {
   "cell_type": "markdown",
   "metadata": {},
   "source": [
    "#####  The Normal Equation computes the inverse of $X^TX$, which is an $(n+1) by (n+1)$ matrix (where $n$ is the number of features) . The *computational complexity* of inverting such a matrix is typically about $O(n^{2.4})$ to $O(n^{3})$  "
   ]
  },
  {
   "cell_type": "markdown",
   "metadata": {},
   "source": [
    "#### Note\n",
    "#####  Both the Normal Equation and SVD  approach get very slow when the number of features grow large. On the positive side , both are linear with regards to the number of instances in the training set ($O(m)$) , so they handle large training sets efficiently, provided they can fit in memory"
   ]
  },
  {
   "cell_type": "markdown",
   "metadata": {},
   "source": [
    "## Gradient Descent "
   ]
  },
  {
   "cell_type": "markdown",
   "metadata": {},
   "source": [
    "#####  *Gradient Descent* is a very generic optimization algorithm capable of  finding optimal solutions to a wide range of problems . The general idea of Gradient Descent is to tweak parameters iteratively in order to minimize a cost function. "
   ]
  },
  {
   "cell_type": "markdown",
   "metadata": {},
   "source": [
    "##### Concretely you start by filling **$\\theta$**  with random values ( this is called *random initialization*) , and then improve it gradually , taking one baby step at a time, each step attempting to decrease the cost function, untill algorithm converges to  a minimum \n",
    "##### An important parameter in Gradient Descent is the size of the steps, determined by the *learining rate*  hyperparameter. If the learning rate is too small, then the algorithm will have to go through many iterations to converge, which will take a long time\n",
    "##### On the other hand , if the learining rate is too high, you might jump across the valley and end up on the other side, possibly even higher up than you were before. This makes the algorithm diverge, with larger and larger values, failing to find a good solution"
   ]
  },
  {
   "cell_type": "markdown",
   "metadata": {},
   "source": [
    "#####  The MSE cost function for Linear Regression model happens to be a convex function, which means that if you pick any two points on the curve , the line segment joining them never crosses the curve. This implies that there are no local minima, just one global minimum. It is also a continuous function with a slope that never changes abruptly. These two facts have great consequences: Gradient Descent is guarantedd to approach arbitraritly close the global minimum"
   ]
  },
  {
   "cell_type": "markdown",
   "metadata": {},
   "source": [
    "###  Batch Gradient Descent\n"
   ]
  },
  {
   "cell_type": "markdown",
   "metadata": {},
   "source": [
    "#####  To implement Gradient Descent, you need to compute the gradient of the cost function with regards to each model parameter $\\theta_j$ . In other words you need to calculate how much the cost function will change if you change  $\\theta_j$   a little bit . This is the partial derivative"
   ]
  },
  {
   "cell_type": "markdown",
   "metadata": {},
   "source": [
    "###  $\\frac{\\partial}{\\partial\\theta_j}MSE(\\theta) = \\frac{2}{m}\\sum_{i=1}^{m}(\\theta^TX^{(i)} - y^{(i)})x_j^{(i)}$"
   ]
  },
  {
   "cell_type": "markdown",
   "metadata": {},
   "source": [
    "#####  Instead of computing these partial derivatives individually , we can compute the all in one go.  The gradient vector, noted $\\nabla_\\theta MSE(\\theta)$ contains all the partial derivatives of the cost funtion(one for each model parameter)"
   ]
  },
  {
   "cell_type": "markdown",
   "metadata": {},
   "source": [
    "###  $\\nabla_\\theta MSE(\\theta) = \\begin{bmatrix}\\frac{\\partial}{\\partial\\theta_0}MSE(\\theta)\\\\ \\frac{\\partial}{\\partial\\theta_1}MSE(\\theta) \\\\.\\\\.\\\\.\\\\ \\frac{\\partial}{\\partial\\theta_n}MSE(\\theta) \\end{bmatrix}  = \\frac{2}{m}X^T(X\\theta - y)$ "
   ]
  },
  {
   "cell_type": "markdown",
   "metadata": {},
   "source": [
    "#### Note\n",
    "##### This formula involves calculations over the full training set X, at each Gradient Descent step. This is why the algorithm is called *Batch Gradient Descent* :it uses the whole batch of training data at every step. As a result it is terribly slow on verlylarge trainig sets. However Gradient descent scales well with the number of features; training a Linear Regression model when there are hundreds of thousands of  features is much faster using Gradient Descent than using the Normal Equation or SVD decomposition."
   ]
  },
  {
   "cell_type": "markdown",
   "metadata": {},
   "source": [
    "#####  once you have the gradient vector, which points uphill, just go in the opposite direction to  go downhill. This means substracting $\\nabla_\\theta MSE(\\theta)$ from $\\theta$. This is where the learning rate $\\alpha$ comes"
   ]
  },
  {
   "cell_type": "markdown",
   "metadata": {},
   "source": [
    "##### $\\theta^{(next step)} = \\theta - \\alpha\\nabla_\\theta MSE(\\theta)$ "
   ]
  },
  {
   "cell_type": "code",
   "execution_count": 12,
   "metadata": {},
   "outputs": [
    {
     "data": {
      "text/plain": [
       "array([[-0.05706103],\n",
       "       [ 2.13748521]])"
      ]
     },
     "execution_count": 12,
     "metadata": {},
     "output_type": "execute_result"
    }
   ],
   "source": [
    "# implementation of gradient descent\n",
    "def batch_gradient_descent(x,y,alpha=0.1, n_iterations=10000, m=100):\n",
    "    theta = np.random.randn(2,1) #random initialization\n",
    "    for iteration in range(n_iterations):\n",
    "        gradients = 2/m * (x.T.dot(x.dot(theta) - y))\n",
    "        theta = theta - alpha * gradients\n",
    "        return theta\n",
    "batch_gradient_descent(x_b, y)"
   ]
  },
  {
   "cell_type": "markdown",
   "metadata": {},
   "source": [
    "### Stochastic Gradient Descent"
   ]
  },
  {
   "cell_type": "markdown",
   "metadata": {},
   "source": [
    "   ######  The main problem with Batch Gradient Descent is the fact that it uses the whole training set to compute the gradients at every step, which makes it very slow when the training set is large. At the opposite extreme , *Stochastic Gradient Descent* just picks a random instance in the training set at every step and computes gradients based only on the single instance. Obviously this makes the algorithm much faster since it has very little data to manipulate at every iteration. It also makes it possible to train on huge training set, since only one instance needs to be in memory at each iteration. (SGD can be implemented as an out-of -core algorithm)"
   ]
  },
  {
   "cell_type": "markdown",
   "metadata": {},
   "source": [
    "######  On the other hand , due to its stochsitic nature, this algorithm is much less regular than Batch Gradient Descent: instead of gently decreasing untill it reaches the minimum, the cost function will bounce up and down , decreasing only on average . Over time it wil end up very close to the minimum, but once it gets there it will continue to bounce around , never settling down. So once the algorithm stops , the final parameter values are good , but not optimal\n",
    "\n",
    "###### When the cost function is very irregular , this can actually help the algorithm jump out of local minima , so Stochastic Gradient Descent has a better chance of finding the global minimum than Batch Gradient Descent does."
   ]
  },
  {
   "cell_type": "markdown",
   "metadata": {},
   "source": [
    "######  Therefore randomness is good to escape from local optima, but bad because it means that the algorithm can never settle at the minimum. One solution to this dilemma is to gradually reduce the learning rate . The steps start out large(which helps make quick progress  and escape local minima) , then get smaller and smaller , allowing the algorithm to settle at the global minimum. This process is akin to **Simulated annealing**, an algorithm inspired from the process of annealing in metallurgy  where molten metal is slowly cooled down. The function that determines the learning rate at each iteration is called *learning schedule*.  If the learning rate is reduced too quickly, you may get stuck in a local minimum, or even end up frozen halfway to the minimum. If the learning rate is reduced too slowly, you may jump around the minimum for long time and end up with a suboptimal solution   "
   ]
  },
  {
   "cell_type": "code",
   "execution_count": 13,
   "metadata": {},
   "outputs": [
    {
     "data": {
      "text/plain": [
       "array([[3.86638676],\n",
       "       [3.03190657]])"
      ]
     },
     "execution_count": 13,
     "metadata": {},
     "output_type": "execute_result"
    }
   ],
   "source": [
    "# implementing stochastic gradient descent\n",
    "n_epochs = 50 #iteration num\n",
    "t0, t1 = 5, 50 #learning schedule hyperparameters\n",
    "\n",
    "def learning_schedule(t):\n",
    "    return t0/(t+t1)\n",
    "\n",
    "theta=np.random.randn(2,1) #random initialisation\n",
    "m = 100\n",
    "\n",
    "for epoch in range(n_epochs):\n",
    "    for i in range(m):\n",
    "        random_index = np.random.randint(m)\n",
    "        xi = x_b[random_index:random_index+1]\n",
    "        yi = y[random_index:random_index+1]\n",
    "        gradients = 2 * (xi.T.dot(xi.dot(theta) - yi))\n",
    "        alpha = learning_schedule(epoch * m + i)\n",
    "        theta = theta - alpha * gradients \n",
    "\n",
    "\"\"\"\n",
    "By convention we iterate by rounds of m iteration;\n",
    "each is called an epoch . While the Batch Gradient Descent\n",
    "code iterated 1,000 times through the whole training set,\n",
    "this code goes through the training set only 50 times\n",
    "and reaches a fairly good solution\n",
    "\"\"\"\n",
    "\n",
    "theta"
   ]
  },
  {
   "cell_type": "markdown",
   "metadata": {},
   "source": [
    "##### Note\n",
    "\n",
    "###### When using SGD , the training instances must be independent and identically distributed, to ensure that the parameters get pulled towards the global minimum, on average. A simple way to ensure this is to shuflle the instances during training.  If you do not do this , for example if the instances arae sorted by label, then SGD will start by optimizing for one label, then the next , and so on, and it will not settle close to the minimum\n"
   ]
  },
  {
   "cell_type": "code",
   "execution_count": 14,
   "metadata": {},
   "outputs": [
    {
     "data": {
      "text/plain": [
       "array([[0.94306996],\n",
       "       [0.90030611]])"
      ]
     },
     "execution_count": 14,
     "metadata": {},
     "output_type": "execute_result"
    }
   ],
   "source": [
    "# just trying sgd on another example\n",
    "x = 2 * np.random.randn(100,1)\n",
    "y = 1 +  1 * x + np.random.randn(100,1)\n",
    "x_final = np.c_[np.ones((100, 1)), x]\n",
    "\n",
    "n_epochs = 50 # num of rounds of m iteration\n",
    "t0, t1 = 5, 50 #learning schedule \n",
    "\n",
    "# learning which changes(decreases) after each iteration\n",
    "def learning_schedule(t):\n",
    "    return t0/(t+t1)\n",
    "\n",
    "#sgd\n",
    "def stochastic_gradient_descent(x, y ):\n",
    "    m = 100\n",
    "    theta = np.random.randn(2,1)\n",
    "    for epochs in range(n_epochs):\n",
    "        for i in range(m):\n",
    "            random_index = np.random.randint(m)\n",
    "            xi = x[random_index:random_index+1]\n",
    "            yi = y[random_index:random_index+1]\n",
    "            gradient = 2 * (xi.T.dot(xi.dot(theta) - yi ))\n",
    "            alpha = learning_schedule(n_epochs * m + i)\n",
    "            theta = theta - alpha * gradient\n",
    "    return theta\n",
    "            \n",
    "stochastic_gradient_descent(x_final, y)\n",
    "#x_final"
   ]
  },
  {
   "cell_type": "markdown",
   "metadata": {},
   "source": [
    "To perform Linear Regression using SGD with sklearn, you can use  the SGDRegressor class, which defaults to optimizing the squared error cost function . The following code runs for 1000 epochs(max_iter=1000) or untill the loss drops by less than 1e-3 during one epoch(tol = 1e-3) , starting with a learning rate or 0.1, using the default learning schedule(different from preceding one) , and it does not use any regularization(penalty=None)"
   ]
  },
  {
   "cell_type": "code",
   "execution_count": 15,
   "metadata": {},
   "outputs": [
    {
     "data": {
      "text/plain": [
       "(array([0.94856619]), array([0.90964647]))"
      ]
     },
     "execution_count": 15,
     "metadata": {},
     "output_type": "execute_result"
    }
   ],
   "source": [
    "from sklearn.linear_model import SGDRegressor\n",
    "sgd_reg = SGDRegressor(max_iter=1000 , tol=1e-3, penalty=None, eta0=0.1)\n",
    "sgd_reg.fit(x, y.ravel())\n",
    "sgd_reg.intercept_, sgd_reg.coef_"
   ]
  },
  {
   "cell_type": "markdown",
   "metadata": {},
   "source": [
    "####  Mini-batch Gradient Descent"
   ]
  },
  {
   "cell_type": "markdown",
   "metadata": {},
   "source": [
    "The last Gradient Descent algorithm i look,  is called *Mini-batch Gradient Descent* .It is quite easy to understand once you know Batch and Stochastioc Gradient Descent: at each step , instead of computing the gradients based on the full training set (as in Batch GD) or based on just one instance(as in SGD) , Mini batch GD computes the gradients on small random sets of instances called *mini batches* . The main advantage of Mini-Batch GSD over Stochastic GD is that you can get a performance boost by hardware optimization of matrix operations, especially when using GPUs.\n",
    "    \n",
    "The algorithm's progress in parameter space is less erratic than with SGD, especially with fairly large mini-batches. As a result , Mini-batch GD will end up walking around a bit closer to minimum the SGD . But, on the other hand , it may be harder for it to escape from local minima.  "
   ]
  },
  {
   "cell_type": "markdown",
   "metadata": {},
   "source": [
    "### Polynomial Regression"
   ]
  },
  {
   "cell_type": "markdown",
   "metadata": {},
   "source": [
    "Polynomial Regression is when your data is more complex than a simple straight line, Surprisingly you  can actually use a linear model to fit nonlinear data. A simple way to do this is to add powers of each features as new features, then train a linear model on this extended set of features . This is *Polynomial Regression*"
   ]
  },
  {
   "cell_type": "code",
   "execution_count": 16,
   "metadata": {
    "scrolled": true
   },
   "outputs": [
    {
     "data": {
      "text/plain": [
       "[-5, 5, 0, 10]"
      ]
     },
     "execution_count": 16,
     "metadata": {},
     "output_type": "execute_result"
    },
    {
     "data": {
      "image/png": "[encoded data removed]",
      "text/plain": [
       "<Figure size 432x288 with 1 Axes>"
      ]
     },
     "metadata": {
      "needs_background": "light"
     },
     "output_type": "display_data"
    }
   ],
   "source": [
    "# looking at a quadratic model\n",
    "m = 100\n",
    "X = 6 * np.random.randn(m,1) - 3\n",
    "y = 0.5 * X**2 + X + 2 + np.random.randn(m,1)\n",
    "plt.scatter(X, y, c = \"PURPLE\")\n",
    "plt.axis([-5, 5, 0, 10])"
   ]
  },
  {
   "cell_type": "code",
   "execution_count": 17,
   "metadata": {},
   "outputs": [
    {
     "data": {
      "text/plain": [
       "'\\nClearly a straight line will never fit this data \\nproperly. \\n'"
      ]
     },
     "execution_count": 17,
     "metadata": {},
     "output_type": "execute_result"
    }
   ],
   "source": [
    "\"\"\"\n",
    "Clearly a straight line will never fit this data \n",
    "properly. \n",
    "\"\"\""
   ]
  },
  {
   "cell_type": "code",
   "execution_count": 18,
   "metadata": {},
   "outputs": [
    {
     "data": {
      "text/plain": [
       "array([-7.83732035, 61.42359032])"
      ]
     },
     "execution_count": 18,
     "metadata": {},
     "output_type": "execute_result"
    }
   ],
   "source": [
    "# fitting using polynomial features from sklearn\n",
    "from sklearn.preprocessing import PolynomialFeatures\n",
    "\n",
    "poly_features = PolynomialFeatures(degree=2, include_bias=False)\n",
    "X_poly = poly_features.fit_transform(X)\n",
    "\n",
    "#X_poly now contains the orginal features of X \n",
    "# plus  the square of the features\n",
    "X_poly[0]"
   ]
  },
  {
   "cell_type": "code",
   "execution_count": 19,
   "metadata": {},
   "outputs": [],
   "source": [
    "# fitting linear regression to this model\n",
    "lin_reg = LinearRegression()\n",
    "lin_reg.fit(X_poly, y)\n",
    "lin_reg.intercept_, lin_reg.coef_\n",
    "predictions = lin_reg.predict(X_poly)\n",
    "\n"
   ]
  },
  {
   "cell_type": "code",
   "execution_count": 20,
   "metadata": {},
   "outputs": [
    {
     "data": {
      "text/plain": [
       "[-3, 3, 0, 10]"
      ]
     },
     "execution_count": 20,
     "metadata": {},
     "output_type": "execute_result"
    },
    {
     "data": {
      "image/png": "[encoded data removed]",
      "text/plain": [
       "<Figure size 432x288 with 1 Axes>"
      ]
     },
     "metadata": {
      "needs_background": "light"
     },
     "output_type": "display_data"
    }
   ],
   "source": [
    "plt.plot(X, y, 'b.')\n",
    "plt.plot(X, predictions, \"r-\", label='Predictions', )\n",
    "plt.legend()\n",
    "plt.axis([-3,3, 0, 10])\n"
   ]
  },
  {
   "cell_type": "markdown",
   "metadata": {},
   "source": [
    "When there are multiple features , Polynomial Regression is capable of finding relationships between features(which is something plain Linear Regression model cannot do). This is made possible by the fact that PolunomialFeatures also adds all combinations of features up to the given degree. For example , if there were two features $a$ and $b$, PolynomialFeatures with degree = 3 would not only add the features $a^2, a^3, b^2 and b^3$ , but also the combinations of $ab, a^2b, and ab^2$\n",
    "\n",
    "\n",
    "PolynomialFeatures(degree=d) transform an array containig $n$ features into an array containig $\\frac{(n+d)!}{d!n!}$ features"
   ]
  },
  {
   "cell_type": "markdown",
   "metadata": {},
   "source": [
    "### Learning Curves"
   ]
  },
  {
   "cell_type": "markdown",
   "metadata": {},
   "source": [
    "If you perform high-degree Polynomial Regression , you will likely fit the training data much better than with plain Linear Regression. The higher degree polynomial model will overfit the training data. In general you wont know what function generated the data, so how can you decide how complex your model should be? How can you tell your model is overfitting or underfitting the data?\n",
    "    \n",
    "   By using cross validation , If a model performs well on the trainig data  but generalizes poorly according to the cross-validation metrics, then your model is overfitting. If it performs poorly  on both , then it is underfitting. This is one way to tell when a model is too simple or too complex.\n",
    "   \n",
    "   Another way is to look at the *learning curves*: these are plots of the model's performance on the training set and the validation set as a function of the training set size (or the training set  iteration) . To generate the plots, simply train the model several times on different sized subsets of the training set. "
   ]
  },
  {
   "cell_type": "code",
   "execution_count": 21,
   "metadata": {},
   "outputs": [],
   "source": [
    "#function to plot the learning curves\n",
    "from sklearn.metrics import mean_squared_error\n",
    "from sklearn.model_selection import train_test_split\n",
    "\n",
    "def plot_learning_curves(model, x, y):\n",
    "    x_train, x_val, y_train, y_val = train_test_split(x,y, test_size = 0.2)\n",
    "    train_errors, val_errors = [],[]\n",
    "    for m in range(1, len(x_train)):\n",
    "        model.fit(x_train[:m],y_train[:m])\n",
    "        y_train_predict = model.predict(x_train[:m])\n",
    "        y_val_predict = model.predict(x_val)\n",
    "        train_errors.append(mean_squared_error(y_train_predict, y_train[:m]))\n",
    "        val_errors.append(mean_squared_error(y_val_predict, y_val))\n",
    "    plt.plot(np.sqrt(train_errors), 'r-+', linewidth = 2, label='train')\n",
    "    plt.plot(np.sqrt(val_errors), \"b-\", linewidth = 3, label=\"val\")\n",
    "\n",
    "    plt.legend()\n",
    "    plt.show()\n",
    "        "
   ]
  },
  {
   "cell_type": "code",
   "execution_count": 22,
   "metadata": {},
   "outputs": [
    {
     "data": {
      "image/png": "[encoded data removed]",
      "text/plain": [
       "<Figure size 432x288 with 1 Axes>"
      ]
     },
     "metadata": {
      "needs_background": "light"
     },
     "output_type": "display_data"
    }
   ],
   "source": [
    "lin_reg = LinearRegression()\n",
    "m = 100\n",
    "x = 6 * np.random.randn(100, 1) - 3\n",
    "y = 0.5 * x**2 + x + 2 + np.random.randn(100, 1)\n",
    "plot_learning_curves(lin_reg, x, y)"
   ]
  },
  {
   "cell_type": "markdown",
   "metadata": {},
   "source": [
    "First look at the performance on the training data: when there are just one or two instances on the training set, the model can fit them perfectly, which why the curve start at zero. But as new instances are added to the training set , it becomes impossible for the model to fit the training data perfectly, both because the data is noisy and because it is not linear at all. So the error on the training data goes up until it reaches a plateau, at which point adding new instances to the training set doesn't make the average error much better or worse. Now, let's look at the performance of the model on the validation data. When the model is trained on very few training instances, it is incapable of generalizing properly, which is why the validation error is initially quite big. Then as the model is shown more training examples, it learns and thus the validation error slowly goes down. These learning curves are typical examples of an underfitting model. Both curves have reached a plateau; they are close and fairly high.\n",
    "\n",
    "\n",
    "__If your model is underfitting the training data, adding more training examples will not help. You need to use a more complex model or come with better features__"
   ]
  },
  {
   "cell_type": "code",
   "execution_count": 23,
   "metadata": {},
   "outputs": [
    {
     "data": {
      "image/png": "[encoded data removed]",
      "text/plain": [
       "<Figure size 432x288 with 1 Axes>"
      ]
     },
     "metadata": {
      "needs_background": "light"
     },
     "output_type": "display_data"
    }
   ],
   "source": [
    "# looking at 10th degree polynomial\n",
    "from sklearn.pipeline import Pipeline\n",
    "polynomial_reg = Pipeline([('poly_features', PolynomialFeatures(degree=10, include_bias=False)),(\"lin_reg\", LinearRegression())])\n",
    "plot_learning_curves(polynomial_reg, x,  y)"
   ]
  },
  {
   "cell_type": "markdown",
   "metadata": {},
   "source": [
    "- The error on the training data is much lower than with LinearRegression model\n",
    "\n",
    "\n",
    "- There is a gap between the curves. This means that the model performs significantly better on the training data then on the validation data, which is the hallmark of an overfitting model. However , if you used a much larger training set , the two training set would continue to get closer."
   ]
  },
  {
   "cell_type": "markdown",
   "metadata": {},
   "source": [
    "###  The Bias/Variance Tradeoff"
   ]
  },
  {
   "cell_type": "markdown",
   "metadata": {},
   "source": [
    "An important theoretical result of statistics and Machine Learning is the fact that a model's generalization error can be expressed as the sum of three very different errors:\n",
    "\n",
    "*Bias*:\n",
    "\n",
    "   This part of the generalization error is due to wrong assumptions, such as assuming that the data is linear when it is actually quadratic. A high-bias model is most likely to underfit the training data\n",
    "   \n",
    "\n",
    "*Variance*:\n",
    "   \n",
    "   This part is due to the model's excessive sensitivity to small variations in the training data. A model with many degress of freedom (such as high degree polynomial model) is likely to have high variance, and thus overfit the training data.\n",
    "   \n",
    "\n",
    "*Irreducible error* :\n",
    "\n",
    "   This part is due to the noisiness of the data itself. The only way to reduce this part of the error is to clean up the data (e.g., fix the data sources , such as broken sensors, or detect and remove outliers).\n",
    "   \n",
    "  \n",
    "Increasing a model's complexity will typically increase its variance and reduces its bias. Conversely, reducing a model's complexity increases its bias and reduces its variance. This is why its called a tradeoff"
   ]
  },
  {
   "cell_type": "markdown",
   "metadata": {},
   "source": [
    "##  Regularized Model"
   ]
  },
  {
   "cell_type": "markdown",
   "metadata": {},
   "source": [
    "### Ridge Regression\n"
   ]
  },
  {
   "cell_type": "markdown",
   "metadata": {},
   "source": [
    "*Ridge Regression* is a regularized version of Linear Regression: a regularization term equal to $\\lambda \\frac {1}{2}\\sum_{i = 1}^n \\theta_i^2$ added to the cost fuction . This forces the learning algorithm to not only fit the data but also keep the model weights as small as possible. The regularization term should only be added to the cost funtion during training. Once the model is trained, evaluate the model's performance using the unregularized performance measure.\n",
    "\n",
    "   The hyperparamter $\\lambda$ controls how much you want to regularize the model. If $\\lambda =  0$ then the Ridge Regression is just Linear Regression. If $\\lambda$ is large, then all weights end up very close to zero  and the result is a flat line going through data's mean.\n",
    "   \n",
    "\n",
    "   $J(\\theta)  = MSE(\\theta) + \\lambda \\frac {1}{2}\\sum_{i = 1} ^n \\theta_i^2$ \n",
    "\n",
    "The bias term $\\theta_0 $ is not regularized . If we define $w$ as the vector of feature weights $(\\theta_1 to \\theta_n)$ , then the regularization term is simply equal to $\\frac{1}{2} (|| w ||^2)$ where $||w||^2$ is the $l_2$ norm of the weight vector . For Gradient Descent , just add $\\lambda w$ to the MSE gradient vector\n",
    "\n",
    "##### Note:\n",
    "   \n",
    "  It is important to scale the data before performing Ridge Regrssion , as it is sensitive to the scale of the input features. This is true for most regularized models.\n",
    "  \n",
    "  \n",
    "  **Ridge Regression closed form solution**\n",
    "  \n",
    "  $\\hat \\theta = ( X^TX + \\lambda A)^{-1} X^T y$ (A is the (n + 1) x( n+1) identity matrix except with a 0 in the top-left cell, corresponding the bias term)"
   ]
  },
  {
   "cell_type": "code",
   "execution_count": 24,
   "metadata": {},
   "outputs": [
    {
     "data": {
      "text/plain": [
       "array([[11.32851152]])"
      ]
     },
     "execution_count": 24,
     "metadata": {},
     "output_type": "execute_result"
    }
   ],
   "source": [
    "# rigde regression close form using sklearn\n",
    "from sklearn.linear_model import Ridge\n",
    "ridge_reg = Ridge(alpha=1, solver='cholesky')\n",
    "ridge_reg.fit(x, y)\n",
    "ridge_reg.predict([[1.5]])"
   ]
  },
  {
   "cell_type": "code",
   "execution_count": 25,
   "metadata": {},
   "outputs": [],
   "source": [
    "x = 6 * np.random.randn(100, 1) - 3\n",
    "y = 0.5 * x**2 + x + 2 + np.random.randn(100, 1)"
   ]
  },
  {
   "cell_type": "code",
   "execution_count": 26,
   "metadata": {},
   "outputs": [
    {
     "data": {
      "text/plain": [
       "array([16.11154335])"
      ]
     },
     "execution_count": 26,
     "metadata": {},
     "output_type": "execute_result"
    }
   ],
   "source": [
    "# testing it with sgd model\n",
    "sgd_model = SGDRegressor(penalty='l2')\n",
    "sgd_model.fit(x,y.ravel())\n",
    "\n",
    "\n",
    "\"\"\"\n",
    "The penalty parameter sets the type of regularization\n",
    "term to use . Specifying \"l2\" indicates to add a \n",
    "regularization term to the cost function equal to\n",
    "the half the square of the l2 norm of the weight\n",
    "vector: this is simply ridge regression\n",
    "\"\"\"\n",
    "sgd_model.predict([[1.5]])"
   ]
  },
  {
   "cell_type": "markdown",
   "metadata": {},
   "source": [
    "###  Lasso Regression"
   ]
  },
  {
   "cell_type": "markdown",
   "metadata": {},
   "source": [
    "Least Absolute Shrinkage and Selection Operator Regression(Lasso Regression) is another regularized version of Regression: just like Ridge Regression , it adds a regularization term to the cost function , but it use the $l_1$ norm of the weight vectour instead of half the square of the $l_2$ norm\n",
    "\n",
    "\n",
    "*Lasso Regression cost function:*\n",
    "\n",
    "   $J(\\theta) = MSE(\\theta) + \\lambda \\sum_{i=1}^n|\\theta_i|$\n",
    "   \n",
    "   \n",
    "   An important characteristic of Lasso Regression is that it tends to completely eliminate the weights of the least important featurs(set them to zero). Lasso Regression automatically performs feature selection and output a *sparse model* (i.e., with  few nonzero feature weights).\n",
    "   \n",
    "   The Lasso cost function is not differntiable at $\\theta_i = 0$, but Gradient Descent still works fine if use a *subgradient vector* ***g*** instead when any $\\theta = 0 $\n",
    "   \n",
    "   *Lasso Regression subgradient vector*\n",
    "   \n",
    "   $g(\\theta, J) = \\nabla_\\theta MSE(\\theta)+\\lambda \\begin{bmatrix} sign(\\theta_1)\\\\sign(\\theta_2)\\\\.\\\\.\\\\.\\\\sign(\\theta_n) \\end{bmatrix}$   where  $sign(\\theta_i) = \\begin{cases} -1  & \\theta_i < 0 \\\\ 0 &  \\theta_i = 0 \\\\ -1 & \\theta < 0\\end{cases}$"
   ]
  },
  {
   "cell_type": "code",
   "execution_count": 27,
   "metadata": {},
   "outputs": [
    {
     "data": {
      "text/plain": [
       "array([18.73654664])"
      ]
     },
     "execution_count": 27,
     "metadata": {},
     "output_type": "execute_result"
    }
   ],
   "source": [
    "# lasso class \n",
    "from sklearn.linear_model import Lasso\n",
    "lasso_reg = Lasso(alpha=0.1)\n",
    "lasso_reg.fit(x,y)\n",
    "lasso_reg.predict([[1.5]])"
   ]
  },
  {
   "cell_type": "markdown",
   "metadata": {},
   "source": [
    "### Elastic Net"
   ]
  },
  {
   "cell_type": "markdown",
   "metadata": {},
   "source": [
    "It is middle ground between Ridge Regression and Lasso Regression. The regularization term is a simple mix of both Ridge and Lasso's regualrization terms, and can easily control the mix ratio $r$ . when $r = 0$ , Elastic Net is equivaletn to Ridge Regression and , when $r = 1$ , it is equivalent to Lasso Regression\n",
    "\n",
    "$J(\\theta) = MSE(\\theta) + r\\lambda \\sum_{i = 1}^n |\\theta_i| + \\frac{1-r}{2}\\lambda \\sum_{i = 1} ^ n \\theta_i^2$"
   ]
  },
  {
   "cell_type": "markdown",
   "metadata": {},
   "source": [
    "When to plain Linear Regression, Ridge, Lasso, Elastic Net? It is almost always preferable to have at least a little bit of regularization, generally you should avoid plain Linear Regression. Ridge is a good default, but if you suspect only a few features are actually useful, you should prefer Lasso or Elastic Net"
   ]
  },
  {
   "cell_type": "code",
   "execution_count": 28,
   "metadata": {},
   "outputs": [
    {
     "data": {
      "text/plain": [
       "array([18.73675883])"
      ]
     },
     "execution_count": 28,
     "metadata": {},
     "output_type": "execute_result"
    }
   ],
   "source": [
    "# elastic net\n",
    "from sklearn.linear_model import ElasticNet\n",
    "elastic_reg = ElasticNet(alpha=0.1, l1_ratio=0.5) #r\n",
    "elastic_reg.fit(x,y)\n",
    "elastic_reg.predict([[1.5]])\n",
    "    \n"
   ]
  },
  {
   "cell_type": "markdown",
   "metadata": {},
   "source": [
    "### Early Stopping"
   ]
  },
  {
   "cell_type": "markdown",
   "metadata": {},
   "source": [
    "A different way to regularize iterative learning algorthm such as Gradient Descent is to stop training as soon as the validation error reaches a minimum. This is *early stopping*"
   ]
  },
  {
   "cell_type": "markdown",
   "metadata": {},
   "source": [
    "#### warning:\n",
    "\n",
    "with SGD and MGD, the curves are not so smooth, and it may be hard to know whether you have reached the minimum or not . One solution is to stop only after the validation error has been above the minimum for some time , then roll back the model parameters to the point where the validation error was at a minimum"
   ]
  },
  {
   "cell_type": "code",
   "execution_count": 35,
   "metadata": {},
   "outputs": [
    {
     "data": {
      "text/plain": [
       "(SGDRegressor(alpha=0.0001, average=False, early_stopping=False, epsilon=0.1,\n",
       "              eta0=0.0005, fit_intercept=True, l1_ratio=0.15,\n",
       "              learning_rate='constant', loss='squared_loss', max_iter=1000,\n",
       "              n_iter_no_change=5, penalty=None, power_t=0.25, random_state=None,\n",
       "              shuffle=True, tol=inf, validation_fraction=0.1, verbose=0,\n",
       "              warm_start=True),\n",
       " 862,\n",
       " 2.0388688553015464e+19)"
      ]
     },
     "execution_count": 35,
     "metadata": {},
     "output_type": "execute_result"
    }
   ],
   "source": [
    "# basic implementation of early stopping\n",
    "from sklearn.base import clone\n",
    "from sklearn.preprocessing import StandardScaler\n",
    "import numpy as np\n",
    "\n",
    "x = 6 * np.random.randn(100, 1) - 3\n",
    "y = 0.5 * x**2 + x + 2 + np.random.randn(100, 1)\n",
    "def early_stopping():\n",
    "    X_train,X_val,y_train, y_val = train_test_split(x,y.ravel(), test_size = 0.2)\n",
    "\n",
    "    #prepare the data\n",
    "    poly_scaler = Pipeline([(\"poly_features\", PolynomialFeatures(degree=90, include_bias=False)), ('std_scaler', StandardScaler())])\n",
    "    X_train_poly_scaled = poly_scaler.fit_transform(X_train)\n",
    "    X_val_poly_scaled = poly_scaler.transform(X_val)\n",
    "    sgd_reg = SGDRegressor(max_iter=1000, tol = np.infty, warm_start=True, penalty=None, learning_rate=\"constant\", eta0=0.0005)\n",
    "    minimum_val_error = float(\"inf\")\n",
    "    best_epoch = None\n",
    "    best_model = None\n",
    "    for epoch in range(1000):\n",
    "        sgd_reg.fit(X_train_poly_scaled, y_train) #continues where it left off\n",
    "        y_val_predict = sgd_reg.predict(X_val_poly_scaled)\n",
    "        val_error = mean_squared_error(y_val, y_val_predict)\n",
    "        if val_error < minimum_val_error:\n",
    "            minimum_val_error = val_error\n",
    "            best_epoch = epoch\n",
    "            best_model = clone(sgd_reg)\n",
    "    return((best_model, best_epoch, minimum_val_error ))\n",
    "\n",
    "early_stopping()\n",
    "\n",
    "        "
   ]
  },
  {
   "cell_type": "code",
   "execution_count": null,
   "metadata": {},
   "outputs": [],
   "source": []
  },
  {
   "cell_type": "code",
   "execution_count": null,
   "metadata": {},
   "outputs": [],
   "source": []
  },
  {
   "cell_type": "code",
   "execution_count": null,
   "metadata": {},
   "outputs": [],
   "source": []
  },
  {
   "cell_type": "code",
   "execution_count": null,
   "metadata": {},
   "outputs": [],
   "source": []
  },
  {
   "cell_type": "code",
   "execution_count": null,
   "metadata": {},
   "outputs": [],
   "source": []
  },
  {
   "cell_type": "code",
   "execution_count": null,
   "metadata": {},
   "outputs": [],
   "source": []
  }
 ],
 "metadata": {
  "kernelspec": {
   "display_name": "Python 3",
   "language": "python",
   "name": "python3"
  },
  "language_info": {
   "codemirror_mode": {
    "name": "ipython",
    "version": 3
   },
   "file_extension": ".py",
   "mimetype": "text/x-python",
   "name": "python",
   "nbconvert_exporter": "python",
   "pygments_lexer": "ipython3",
   "version": "3.8.5"
  }
 },
 "nbformat": 4,
 "nbformat_minor": 4
}
