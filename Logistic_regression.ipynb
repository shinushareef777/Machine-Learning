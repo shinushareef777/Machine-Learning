{
 "cells": [
  {
   "cell_type": "markdown",
   "metadata": {},
   "source": [
    "*Logistic Regression* is commonly used to estimate the probability that an instance belongs to a particular class. If the estimated probability is > 50% , then the model predicts that the instance belongs to that class (called positive class , labelled '1') or else it predicts that it does not (it belongs to negative class, labelled '0'). This makes it binary classifier"
   ]
  },
  {
   "cell_type": "markdown",
   "metadata": {},
   "source": [
    "### Estimating Probabilities"
   ]
  },
  {
   "cell_type": "markdown",
   "metadata": {},
   "source": [
    "like Linear Regression model Logistic Regression computes weighted sum of  input features(plus the bias), but instead of outputting the result like Linear Regression model does , it ouputs *logistic* of this result\n",
    "\n",
    "Logistic Regression model estimated probability(vectorized form)\n",
    "\n",
    "$\\hat p = h_\\theta(X) = \\sigma(\\theta^T X)$\n",
    "\n",
    "The logistic ($\\sigma$) is a *sigmoid* that outputs a number between 0 and 1 \n",
    "\n",
    "*Logistic function*\n",
    "\n",
    "$\\sigma(t) = \\frac{1}{1+ e^{(-t)}}$\n",
    "\n",
    "Once the Logistic Regression model has estimated the probabiliy $\\hat p = h_\\theta(X)$ , it makes prediction accordingly\n",
    "\n",
    "*Logistic Regression  model  prediction*\n",
    "\n",
    "$\\hat y = \\begin {cases} 0 &if&  \\hat p  < 0.5 \\\\ 1 &if& \\hat p \\ge 0.5 \\end {cases}$\n",
    "\n",
    "$\\sigma(t) < 0.5 $ when $t < 0$ and $\\sigma(t) \\ge 0.5 $ when $t \\ge 0$, so a Logistic Regression modle predicts 1 if $X^T\\theta$ is positive and $0$ if it is negative\n",
    "\n",
    "#### Note:\n",
    "\n",
    " The score $t$ is often called the $logit$: this name comes from the fact that the logit function, defined as $ logit(p) = log(\\frac{p}{1-p})$, is the inverse of the logistic function. Indeed , if you compute the logit of the estimated probability  p, you will find that the result is t. The logit is also called the $log-odds$, since it is the log of the ratio between the estimated probability of the positive class and the estimated probability of the nagative class"
   ]
  },
  {
   "cell_type": "markdown",
   "metadata": {},
   "source": [
    "### Training and Cost Function"
   ]
  },
  {
   "cell_type": "markdown",
   "metadata": {},
   "source": [
    "The objective of training a Logistic Regression model is to set parameter vector $\\theta$ so that the model estimates high probabilities for positive instances and low probabilities for negative instances. \n",
    "\n",
    "*Cost function of a single training instance*\n",
    "\n",
    "$c(\\theta) = \\begin{cases} -log(\\hat p) &if y = 1 \\\\ -log(1-\\hat p) &if y = 0 \\end{cases}$\n",
    "\n",
    "- $-log(t)$ grows  very large when $t$ approaches $0$ \n",
    "so the cost will be large if the model estimates a probability close to $0$ \n",
    " ,it will also very large if the model estimates a probability close to 1 for a negative instance.\n",
    " \n",
    "- $-log(t)$ is close to $0$ when $t$ is close to $1$, so the cost will be close to $0$ if the estimated probability is close to $0$ for a negative instance or close to $1$ for a postive instance\n",
    "\n",
    "The cost function over the whole training set is simply the average cost over all training instances.\n",
    "\n",
    "*Logistic Regression cost function(log loss)*\n",
    "\n",
    "$ J(\\theta)$= $-\\frac{1}{m} \\sum_{i = 1}^m\\begin{bmatrix} y^{(i)}log\\left(\\hat p^{(i)}\\right) + \\left(1 - y^{(i)}\\right)log\\left(1-\\hat p^{(i)} \\right) \\end{bmatrix} $\n",
    "\n",
    "\n",
    "\n",
    "- There is no closed form equation to compute the value of $\\theta$ that minimizes the cost function\n",
    "\n",
    "- The cost function is convex, so Gradient Descent (or any other optimization algorithtm ) is guaranteed to find the global minimum\n",
    "\n",
    "\n",
    "*Logistic Regression cost function partial derivative*\n",
    "\n",
    "$\\frac{\\partial}{\\partial\\theta_j}J(\\theta) = \\frac{1}{m}\\sum_{i = 1}^m\\left( \\sigma\\ \\left (\\theta^T X \\right) -y^{(i)} \\right) x_j^{(i)}$\n",
    "\n"
   ]
  },
  {
   "cell_type": "markdown",
   "metadata": {},
   "source": [
    "### Decision Boundaries"
   ]
  },
  {
   "cell_type": "markdown",
   "metadata": {},
   "source": [
    "Let's use the iris dataset to illustrate Logistic Regression. This is a dataset that conatains the sepal and petal length and width of 150 iris flowers of three different species:Iris-Setosa, Iris-Veriscolor, and Iris-Virginica"
   ]
  },
  {
   "cell_type": "code",
   "execution_count": 1,
   "metadata": {},
   "outputs": [],
   "source": [
    "# building a classifier to detect the iris-virginica type based only on the petal width feature\n",
    "from sklearn import datasets\n",
    "import numpy as np\n",
    "iris = datasets.load_iris()\n",
    "list(iris.keys())\n",
    "X = iris['data'][:, 3:] #petal width column\n",
    "y = (iris['target'] == 2).astype(np.int) # 1 if Iris-virginica ,else 0\n"
   ]
  },
  {
   "cell_type": "code",
   "execution_count": 2,
   "metadata": {},
   "outputs": [
    {
     "data": {
      "image/png": "[encoded data removed]",
      "text/plain": [
       "<Figure size 432x288 with 1 Axes>"
      ]
     },
     "metadata": {
      "needs_background": "light"
     },
     "output_type": "display_data"
    }
   ],
   "source": [
    "# training a Logisitic regression model on iris\n",
    "%matplotlib inline\n",
    "import matplotlib.pyplot  as plt\n",
    "from sklearn.linear_model import LogisticRegression\n",
    "\n",
    "log_reg =  LogisticRegression()\n",
    "log_reg.fit(X,y)\n",
    "\n",
    "# let's look at the model's estimated probabilities for flowers with petal widths varying from 0 to 3 cm\n",
    "X_new = np.linspace(0,3,1000).reshape(-1,1) #-1 means unspecified:the value is inferred from the length of the array and the remaining dimension\n",
    "y_proba =  log_reg.predict_proba(X_new)\n",
    "plt.plot(X_new, y_proba[:,1], \"g-\", label='Iris-Virginica')\n",
    "plt.plot(X_new, y_proba[:,0],\"b--\", label=\"Not Iris-Virginica\")\n",
    "plt.ylabel(\"Probabability\")\n",
    "plt.xlabel(\"Petal width (cm)\")\n",
    "plt.axis([0,3,0,1])\n",
    "plt.legend()\n",
    "plt.show()"
   ]
  },
  {
   "cell_type": "markdown",
   "metadata": {},
   "source": [
    "The petal width of Iris-virignica ranges fro 1.4 to 2.5 cms, while other iris flowers have a smaller petal."
   ]
  },
  {
   "cell_type": "code",
   "execution_count": 3,
   "metadata": {},
   "outputs": [
    {
     "data": {
      "text/plain": [
       "array([0, 1])"
      ]
     },
     "execution_count": 3,
     "metadata": {},
     "output_type": "execute_result"
    }
   ],
   "source": [
    "# predicting \n",
    "log_reg.predict([[1.6], [2]]) #returns the class which is most likely\n"
   ]
  },
  {
   "cell_type": "markdown",
   "metadata": {},
   "source": [
    "Here, there is a *decision boundary* at around 1.6cm where both probabilites are 50%; if the petal width is higher than 1.6, the classifier will predict that the flower is an Iris-Virginica, or else it will predict that it is not"
   ]
  },
  {
   "cell_type": "code",
   "execution_count": 4,
   "metadata": {},
   "outputs": [
    {
     "data": {
      "text/plain": [
       "<matplotlib.legend.Legend at 0x7f00698c1340>"
      ]
     },
     "execution_count": 4,
     "metadata": {},
     "output_type": "execute_result"
    },
    {
     "data": {
      "image/png": "[encoded data removed]",
      "text/plain": [
       "<Figure size 432x288 with 1 Axes>"
      ]
     },
     "metadata": {
      "needs_background": "light"
     },
     "output_type": "display_data"
    }
   ],
   "source": [
    "import sklearn.datasets \n",
    "\n",
    "iris_data = datasets.load_iris()\n",
    "list(iris_data.keys())\n",
    "x = iris[\"data\"][:,-1:]\n",
    "y = (iris[\"target\"] == 0).astype(np.int)\n",
    "\n",
    "log_reg.fit(x,y)\n",
    "x_new = np.linspace(0,3,1000).reshape(-1,1)\n",
    "y_proba = log_reg.predict_proba(x_new)\n",
    "plt.plot(x_new, y_proba[:,1], 'r-',label=\"Positive\")\n",
    "plt.plot(x_new, y_proba[:,0], 'y-', label='Negative')\n",
    "plt.ylabel(\"Probability\")\n",
    "plt.xlabel(\"Width of petal \")\n",
    "plt.legend()\n"
   ]
  },
  {
   "cell_type": "code",
   "execution_count": 5,
   "metadata": {
    "scrolled": true
   },
   "outputs": [
    {
     "data": {
      "text/plain": [
       "array([1, 0])"
      ]
     },
     "execution_count": 5,
     "metadata": {},
     "output_type": "execute_result"
    }
   ],
   "source": [
    "log_reg.predict([[0.6],[ 1.6]])"
   ]
  },
  {
   "cell_type": "code",
   "execution_count": 6,
   "metadata": {
    "scrolled": false
   },
   "outputs": [
    {
     "data": {
      "text/plain": [
       "<matplotlib.legend.Legend at 0x7f00698008e0>"
      ]
     },
     "execution_count": 6,
     "metadata": {},
     "output_type": "execute_result"
    },
    {
     "data": {
      "image/png": "[encoded data removed]",
      "text/plain": [
       "<Figure size 432x288 with 1 Axes>"
      ]
     },
     "metadata": {
      "needs_background": "light"
     },
     "output_type": "display_data"
    }
   ],
   "source": [
    "from sklearn import datasets\n",
    "from sklearn.linear_model import LogisticRegression\n",
    "\n",
    "iris_data = datasets.load_iris()\n",
    "X = iris_data['data'][:,3:]\n",
    "y = (iris_data['target'] == 2).astype(np.int)\n",
    "log_model = LogisticRegression()\n",
    "log_model.fit(X,y)\n",
    "x_new = np.linspace(0,4,1000).reshape(-1,1)\n",
    "y_proba = log_model.predict_proba(x_new)\n",
    "plt.plot(x_new,y_proba[:,1], label=\"iris virginica\")\n",
    "plt.plot(x_new,y_proba[:,0], label=\" not iris virginica\")\n",
    "plt.axis([0,4,0,1])\n",
    "plt.legend()"
   ]
  },
  {
   "cell_type": "markdown",
   "metadata": {},
   "source": [
    "###  Softmax Regression"
   ]
  },
  {
   "cell_type": "markdown",
   "metadata": {},
   "source": [
    "The Logistic Regression model can be generalized to support multiple classes directly, without having to train and combine multiple binary classifiers. This is $Softmax    Regression$ or $Multinomial  Logistic Regression$\n",
    "\n",
    "- when given an instance **x**, the Softmax Regression model first computes a score $s_k$(**x**) for each class $k$\n",
    "\n",
    "\n",
    "\n",
    "- then estimates the probability of each class by applying the *softmax function* (also called the *normalized exponential*) to the scores\n",
    "\n",
    "*Equation for softmax score for class k*\n",
    "\n",
    "$s_k$(**x**) $ = $ **x** $^T\\theta^{(k)}$\n",
    "\n",
    "\n",
    "\n",
    "- Each class has its own dedicated parameter vector $\\theta^{(k)}$\n",
    "\n",
    "\n",
    "- All these vectors are stored as row in a *parameter matrix* $\\Theta$\n",
    "\n",
    "Once you have computed the score of every class for the instance **x**, you can estimate the probability $\\hat P_k$ that the instance belongs to class $k$ by running the scores through the softmax function, it computes the exponential of every score, then normalizes them (dividing by the sum of all the exponentials) \n",
    "\n",
    "*Softmax function*\n",
    "\n",
    "$\\hat P_k = \\sigma (S(X))_k = \\frac{exp\\left(S_k(X) \\right)}{\\sum_{j = 1}^K exp \\left(S_j(X) \\right)}$\n",
    "\n",
    "\n",
    "- $K$ is the number of classes\n",
    "\n",
    "\n",
    "- $S(X)$ is a vector containing the scores of each class for the instance $X$\n",
    "\n",
    "\n",
    "- $\\sigma(S(X))_k$ is the estimated probability that the instance $X$ belongs to the  class $k$ given the scores of each class for that instance\n",
    "\n",
    "\n",
    "Like Logistic Regression classifier, Softmax Regression classifier predicts the class with the highest estimated probability(the class with the highest score)\n",
    "\n",
    "\n",
    "*Softmax Regression classifier prediction*\n",
    "\n",
    "$\\hat y = \\underset{k}{\\operatorname{argmax}} \\sigma(S(X))_k = \\underset{k}{\\operatorname{argmax}} S_k(X) = \\underset{k}{\\operatorname{argmax}}\\left( \\left(\\theta^{(k)} \\right)^T X \\right)$\n",
    "\n",
    "- The argmax operator returns the value of a variable that maximizes a function. In this equation, it returns the value of $k$that maximizes the estimated probability $\\sigma\\left(S(X)\\right)_k$\n",
    "\n",
    "\n",
    "##### Note:\n",
    "\n",
    "   The Softmax Regression classifier predicts only one class at a time so it should be used only with mutually exclusive classes such as different types of plants. You cannot use it to recognize multiple people in one picture\n",
    "   \n",
    "\n",
    "\n",
    "- To train the model, the objective is to have a model that estimates a high probability for the target class(Low probability for the other classes).To Minimize the cost function of softmax regression classifier  cross entropy is used , which should lead to this objective because it penalize the model when it estimates a low probability for a target class\n",
    "\n",
    "\n",
    "- Cross entropy is frequently used to measure how well a set of estimated class probabilities match the target classes \n",
    "\n",
    "\n",
    "*Cross entropy cost function*\n",
    "\n",
    "$J(\\Theta) = -\\frac{1}{m}\\sum_{i = 1}^m \\sum_{k = 1}^K y_k^{(i)}log\\left(\\hat p^{(i)}_k\\right)$\n",
    "\n",
    "- $y_k^{(i)}$ is the target probability that the $i^{th}$ instance belongs to class $k$\n",
    "\n",
    "When there are just two classes $(K = 2)$, this cost function is equivalent to the Logistic Regression's cost function.\n",
    "\n",
    "\n",
    "*Cross entropy gradient vector for class k:*\n",
    "\n",
    "$\\nabla_{\\theta^{(k)}} J(\\Theta) = \\frac{1}{m}\\sum_{i = 1}^m \\left(\\hat P_k^{(i)} - y_k^{(i)}\\right)x^{(i)}$"
   ]
  },
  {
   "cell_type": "code",
   "execution_count": 11,
   "metadata": {},
   "outputs": [
    {
     "data": {
      "text/plain": [
       "array([2])"
      ]
     },
     "execution_count": 11,
     "metadata": {},
     "output_type": "execute_result"
    }
   ],
   "source": [
    "# iris flowers classification using softmax\n",
    "\n",
    "X = iris['data'][:,(2,3)] # petal length , petal, width\n",
    "y = iris['target']\n",
    "softmax_reg = LogisticRegression(multi_class=\"multinomial\", solver=\"lbfgs\", C=10)\n",
    "\n",
    "\"\"\"\n",
    "Logistic Regression uses one-versus-all by default\n",
    "when you train it on more than two class , thats why here\n",
    "multi_class=\"multinomial\" which switches to softmax.\n",
    "\"lbfgs\" is the solver that supports softmax\n",
    "It also applies l2 regularization(ridge) by default\n",
    ", can control it using 'C' hyperparamter\n",
    "\"\"\"\n",
    "\n",
    "softmax_reg.fit(X,y)\n",
    "softmax_reg.predict([[5,2]]) # 5cm long and 2 cm wide return iris virginica (class2)\n"
   ]
  },
  {
   "cell_type": "code",
   "execution_count": 13,
   "metadata": {},
   "outputs": [
    {
     "data": {
      "text/plain": [
       "array([[6.38014896e-07, 5.74929995e-02, 9.42506362e-01]])"
      ]
     },
     "execution_count": 13,
     "metadata": {},
     "output_type": "execute_result"
    }
   ],
   "source": [
    "softmax_reg.predict_proba([[5,2]])"
   ]
  },
  {
   "cell_type": "markdown",
   "metadata": {},
   "source": [
    "###  Cross entropy \n",
    "(optional)"
   ]
  },
  {
   "cell_type": "markdown",
   "metadata": {},
   "source": [
    "Cross entropy originated from information theory. Suppose you want to efficiently transmit information about the whether every day. If there are eight options(sunny, rainy etc..),you could encode each option using 3 bits since $2^3 = 8$. However, if you think it will be sunny almost every day , it would be much more efficient to code \"sunny\" on just one bit (0) and the other seven options on  4 bits(starting with 1). Cross entropy measures the average number of bits you actually send per option. If your assumption about the whether is perfect, cross entropy will just be equal to the entropy of the weather itself(i.e., its intrinsic unpredictability).But if your assumptions are wrong , cross entropy will be greater by an amount called the *Kullback-Leibler divergence*.\n",
    "\n",
    "The cross entropy between two probability distributions p and q is defined as \n",
    "\n",
    "$H(p,q)= - \\sum_x p(x)log q(x)$ (when the distributions are discrete)"
   ]
  },
  {
   "cell_type": "code",
   "execution_count": null,
   "metadata": {},
   "outputs": [],
   "source": []
  },
  {
   "cell_type": "code",
   "execution_count": null,
   "metadata": {},
   "outputs": [],
   "source": []
  }
 ],
 "metadata": {
  "kernelspec": {
   "display_name": "Python 3",
   "language": "python",
   "name": "python3"
  },
  "language_info": {
   "codemirror_mode": {
    "name": "ipython",
    "version": 3
   },
   "file_extension": ".py",
   "mimetype": "text/x-python",
   "name": "python",
   "nbconvert_exporter": "python",
   "pygments_lexer": "ipython3",
   "version": "3.8.5"
  }
 },
 "nbformat": 4,
 "nbformat_minor": 4
}
